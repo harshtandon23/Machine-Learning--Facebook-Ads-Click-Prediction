{
 "cells": [
  {
   "attachments": {},
   "cell_type": "markdown",
   "metadata": {},
   "source": [
    "\n",
    "# LOGISTIC REGRESSION - FACEBOOK AD TARGETING\n",
    "### Harsh Tandon\n"
   ]
  },
  {
   "cell_type": "markdown",
   "metadata": {},
   "source": [
    "### PROBLEM STATEMENT"
   ]
  },
  {
   "cell_type": "markdown",
   "metadata": {},
   "source": [
    "You have been hired as a consultant to a start-up that is running a targetted marketing ads on facebook. The company wants to anaylze customer behaviour by predicting which customer clicks on the advertisement. Customer data is as follows: \n",
    "\n",
    "Inputs: \n",
    "- Name \n",
    "- e-mail \n",
    "- Country \n",
    "- Time on Facebook \n",
    "- Estimated Salary (derived from other parameters)\n",
    "\n",
    "Outputs:\n",
    "- Click (1: customer clicked on Ad, 0: Customer did not click on the Ad)"
   ]
  },
  {
   "cell_type": "markdown",
   "metadata": {},
   "source": [
    "### Import Libraries"
   ]
  },
  {
   "cell_type": "code",
   "execution_count": 1,
   "metadata": {},
   "outputs": [],
   "source": [
    "import pandas as pd\n",
    "import numpy as np\n",
    "import seaborn as sns\n",
    "import matplotlib.pyplot as plt\n",
    "%matplotlib inline"
   ]
  },
  {
   "cell_type": "markdown",
   "metadata": {},
   "source": [
    "### Import Dataset"
   ]
  },
  {
   "cell_type": "code",
   "execution_count": 2,
   "metadata": {
    "scrolled": false
   },
   "outputs": [],
   "source": [
    "df = pd.read_csv('Facebook_Ads_2.csv', encoding='ISO-8859-1')"
   ]
  },
  {
   "cell_type": "code",
   "execution_count": 3,
   "metadata": {},
   "outputs": [
    {
     "data": {
      "text/html": [
       "<div>\n",
       "<style scoped>\n",
       "    .dataframe tbody tr th:only-of-type {\n",
       "        vertical-align: middle;\n",
       "    }\n",
       "\n",
       "    .dataframe tbody tr th {\n",
       "        vertical-align: top;\n",
       "    }\n",
       "\n",
       "    .dataframe thead th {\n",
       "        text-align: right;\n",
       "    }\n",
       "</style>\n",
       "<table border=\"1\" class=\"dataframe\">\n",
       "  <thead>\n",
       "    <tr style=\"text-align: right;\">\n",
       "      <th></th>\n",
       "      <th>Names</th>\n",
       "      <th>emails</th>\n",
       "      <th>Country</th>\n",
       "      <th>Time Spent on Site</th>\n",
       "      <th>Salary</th>\n",
       "      <th>Clicked</th>\n",
       "    </tr>\n",
       "  </thead>\n",
       "  <tbody>\n",
       "    <tr>\n",
       "      <th>0</th>\n",
       "      <td>Martina Avila</td>\n",
       "      <td>cubilia.Curae.Phasellus@quisaccumsanconvallis.edu</td>\n",
       "      <td>Bulgaria</td>\n",
       "      <td>25.649648</td>\n",
       "      <td>55330.06006</td>\n",
       "      <td>0</td>\n",
       "    </tr>\n",
       "    <tr>\n",
       "      <th>1</th>\n",
       "      <td>Harlan Barnes</td>\n",
       "      <td>eu.dolor@diam.co.uk</td>\n",
       "      <td>Belize</td>\n",
       "      <td>32.456107</td>\n",
       "      <td>79049.07674</td>\n",
       "      <td>1</td>\n",
       "    </tr>\n",
       "    <tr>\n",
       "      <th>2</th>\n",
       "      <td>Naomi Rodriquez</td>\n",
       "      <td>vulputate.mauris.sagittis@ametconsectetueradip...</td>\n",
       "      <td>Algeria</td>\n",
       "      <td>20.945978</td>\n",
       "      <td>41098.60826</td>\n",
       "      <td>0</td>\n",
       "    </tr>\n",
       "    <tr>\n",
       "      <th>3</th>\n",
       "      <td>Jade Cunningham</td>\n",
       "      <td>malesuada@dignissim.com</td>\n",
       "      <td>Cook Islands</td>\n",
       "      <td>54.039325</td>\n",
       "      <td>37143.35536</td>\n",
       "      <td>1</td>\n",
       "    </tr>\n",
       "    <tr>\n",
       "      <th>4</th>\n",
       "      <td>Cedric Leach</td>\n",
       "      <td>felis.ullamcorper.viverra@egetmollislectus.net</td>\n",
       "      <td>Brazil</td>\n",
       "      <td>34.249729</td>\n",
       "      <td>37355.11276</td>\n",
       "      <td>0</td>\n",
       "    </tr>\n",
       "  </tbody>\n",
       "</table>\n",
       "</div>"
      ],
      "text/plain": [
       "             Names                                             emails  \\\n",
       "0    Martina Avila  cubilia.Curae.Phasellus@quisaccumsanconvallis.edu   \n",
       "1    Harlan Barnes                                eu.dolor@diam.co.uk   \n",
       "2  Naomi Rodriquez  vulputate.mauris.sagittis@ametconsectetueradip...   \n",
       "3  Jade Cunningham                            malesuada@dignissim.com   \n",
       "4     Cedric Leach     felis.ullamcorper.viverra@egetmollislectus.net   \n",
       "\n",
       "        Country  Time Spent on Site       Salary  Clicked  \n",
       "0      Bulgaria           25.649648  55330.06006        0  \n",
       "1        Belize           32.456107  79049.07674        1  \n",
       "2       Algeria           20.945978  41098.60826        0  \n",
       "3  Cook Islands           54.039325  37143.35536        1  \n",
       "4        Brazil           34.249729  37355.11276        0  "
      ]
     },
     "execution_count": 3,
     "metadata": {},
     "output_type": "execute_result"
    }
   ],
   "source": [
    "df.head()"
   ]
  },
  {
   "cell_type": "code",
   "execution_count": 4,
   "metadata": {},
   "outputs": [
    {
     "data": {
      "text/html": [
       "<div>\n",
       "<style scoped>\n",
       "    .dataframe tbody tr th:only-of-type {\n",
       "        vertical-align: middle;\n",
       "    }\n",
       "\n",
       "    .dataframe tbody tr th {\n",
       "        vertical-align: top;\n",
       "    }\n",
       "\n",
       "    .dataframe thead th {\n",
       "        text-align: right;\n",
       "    }\n",
       "</style>\n",
       "<table border=\"1\" class=\"dataframe\">\n",
       "  <thead>\n",
       "    <tr style=\"text-align: right;\">\n",
       "      <th></th>\n",
       "      <th>Names</th>\n",
       "      <th>emails</th>\n",
       "      <th>Country</th>\n",
       "      <th>Time Spent on Site</th>\n",
       "      <th>Salary</th>\n",
       "      <th>Clicked</th>\n",
       "    </tr>\n",
       "  </thead>\n",
       "  <tbody>\n",
       "    <tr>\n",
       "      <th>494</th>\n",
       "      <td>Rigel</td>\n",
       "      <td>egestas.blandit.Nam@semvitaealiquam.com</td>\n",
       "      <td>Sao Tome and Principe</td>\n",
       "      <td>19.222746</td>\n",
       "      <td>44969.13495</td>\n",
       "      <td>0</td>\n",
       "    </tr>\n",
       "    <tr>\n",
       "      <th>495</th>\n",
       "      <td>Walter</td>\n",
       "      <td>ligula@Cumsociis.ca</td>\n",
       "      <td>Nepal</td>\n",
       "      <td>22.665662</td>\n",
       "      <td>41686.20425</td>\n",
       "      <td>0</td>\n",
       "    </tr>\n",
       "    <tr>\n",
       "      <th>496</th>\n",
       "      <td>Vanna</td>\n",
       "      <td>Cum.sociis.natoque@Sedmolestie.edu</td>\n",
       "      <td>Zimbabwe</td>\n",
       "      <td>35.320239</td>\n",
       "      <td>23989.80864</td>\n",
       "      <td>0</td>\n",
       "    </tr>\n",
       "    <tr>\n",
       "      <th>497</th>\n",
       "      <td>Pearl</td>\n",
       "      <td>penatibus.et@massanonante.com</td>\n",
       "      <td>Philippines</td>\n",
       "      <td>26.539170</td>\n",
       "      <td>31708.57054</td>\n",
       "      <td>0</td>\n",
       "    </tr>\n",
       "    <tr>\n",
       "      <th>498</th>\n",
       "      <td>Nell</td>\n",
       "      <td>Quisque.varius@arcuVivamussit.net</td>\n",
       "      <td>Botswana</td>\n",
       "      <td>32.386148</td>\n",
       "      <td>74331.35442</td>\n",
       "      <td>1</td>\n",
       "    </tr>\n",
       "  </tbody>\n",
       "</table>\n",
       "</div>"
      ],
      "text/plain": [
       "      Names                                   emails                Country  \\\n",
       "494   Rigel  egestas.blandit.Nam@semvitaealiquam.com  Sao Tome and Principe   \n",
       "495  Walter                      ligula@Cumsociis.ca                  Nepal   \n",
       "496   Vanna       Cum.sociis.natoque@Sedmolestie.edu               Zimbabwe   \n",
       "497   Pearl            penatibus.et@massanonante.com            Philippines   \n",
       "498    Nell        Quisque.varius@arcuVivamussit.net               Botswana   \n",
       "\n",
       "     Time Spent on Site       Salary  Clicked  \n",
       "494           19.222746  44969.13495        0  \n",
       "495           22.665662  41686.20425        0  \n",
       "496           35.320239  23989.80864        0  \n",
       "497           26.539170  31708.57054        0  \n",
       "498           32.386148  74331.35442        1  "
      ]
     },
     "execution_count": 4,
     "metadata": {},
     "output_type": "execute_result"
    }
   ],
   "source": [
    "df.tail()"
   ]
  },
  {
   "cell_type": "markdown",
   "metadata": {},
   "source": [
    "### Explore/Visualize Dataset"
   ]
  },
  {
   "cell_type": "code",
   "execution_count": 5,
   "metadata": {},
   "outputs": [
    {
     "name": "stdout",
     "output_type": "stream",
     "text": [
      "Total:  499\n",
      "Number of customers who clicked on Ad:  250\n",
      "Percentage Clicked:  50.1 %\n",
      "Number of customers who did not click:  249\n",
      "Percentage who did not click:  49.9 %\n"
     ]
    }
   ],
   "source": [
    "print('Total: ', len(df))\n",
    "print('Number of customers who clicked on Ad: ', (df.Clicked==1).sum())\n",
    "print('Percentage Clicked: ', round((df.Clicked==1).sum()/len(df)*100,3),'%')\n",
    "print('Number of customers who did not click: ', (df.Clicked==0).sum())\n",
    "print('Percentage who did not click: ', round((df.Clicked==0).sum()/len(df)*100,3),'%')"
   ]
  },
  {
   "cell_type": "code",
   "execution_count": 6,
   "metadata": {},
   "outputs": [
    {
     "data": {
      "text/plain": [
       "<matplotlib.axes._subplots.AxesSubplot at 0x1f2f08752e8>"
      ]
     },
     "execution_count": 6,
     "metadata": {},
     "output_type": "execute_result"
    },
    {
     "data": {
      "image/png": "[encoded data removed]",
      "text/plain": [
       "<Figure size 432x288 with 1 Axes>"
      ]
     },
     "metadata": {
      "needs_background": "light"
     },
     "output_type": "display_data"
    }
   ],
   "source": [
    "sns.scatterplot(x='Time Spent on Site', y='Salary', hue = 'Clicked', data = df)"
   ]
  },
  {
   "cell_type": "code",
   "execution_count": 7,
   "metadata": {},
   "outputs": [
    {
     "data": {
      "text/plain": [
       "<matplotlib.axes._subplots.AxesSubplot at 0x1f2f298a0b8>"
      ]
     },
     "execution_count": 7,
     "metadata": {},
     "output_type": "execute_result"
    },
    {
     "data": {
      "image/png": "[encoded data removed]",
      "text/plain": [
       "<Figure size 432x288 with 1 Axes>"
      ]
     },
     "metadata": {
      "needs_background": "light"
     },
     "output_type": "display_data"
    }
   ],
   "source": [
    "sns.boxplot(x='Clicked', y='Salary', data = df)"
   ]
  },
  {
   "cell_type": "code",
   "execution_count": 8,
   "metadata": {},
   "outputs": [
    {
     "data": {
      "text/plain": [
       "<matplotlib.axes._subplots.AxesSubplot at 0x1f2f2a15198>"
      ]
     },
     "execution_count": 8,
     "metadata": {},
     "output_type": "execute_result"
    },
    {
     "data": {
      "image/png": "[encoded data removed]",
      "text/plain": [
       "<Figure size 432x288 with 1 Axes>"
      ]
     },
     "metadata": {
      "needs_background": "light"
     },
     "output_type": "display_data"
    }
   ],
   "source": [
    "sns.boxplot(x='Clicked', y='Time Spent on Site', data = df)"
   ]
  },
  {
   "cell_type": "code",
   "execution_count": 9,
   "metadata": {},
   "outputs": [
    {
     "data": {
      "text/plain": [
       "<matplotlib.axes._subplots.AxesSubplot at 0x1f2f2aa72e8>"
      ]
     },
     "execution_count": 9,
     "metadata": {},
     "output_type": "execute_result"
    },
    {
     "data": {
      "image/png": "[encoded data removed]",
      "text/plain": [
       "<Figure size 432x288 with 1 Axes>"
      ]
     },
     "metadata": {
      "needs_background": "light"
     },
     "output_type": "display_data"
    }
   ],
   "source": [
    "df.Salary.hist(bins = 40)"
   ]
  },
  {
   "cell_type": "code",
   "execution_count": 10,
   "metadata": {},
   "outputs": [
    {
     "data": {
      "text/plain": [
       "<matplotlib.axes._subplots.AxesSubplot at 0x1f2f2b71be0>"
      ]
     },
     "execution_count": 10,
     "metadata": {},
     "output_type": "execute_result"
    },
    {
     "data": {
      "image/png": "[encoded data removed]",
      "text/plain": [
       "<Figure size 432x288 with 1 Axes>"
      ]
     },
     "metadata": {
      "needs_background": "light"
     },
     "output_type": "display_data"
    }
   ],
   "source": [
    "df['Time Spent on Site'].hist(bins = 20)"
   ]
  },
  {
   "cell_type": "markdown",
   "metadata": {},
   "source": [
    "### Data Preparation and Data Cleaning "
   ]
  },
  {
   "cell_type": "code",
   "execution_count": 11,
   "metadata": {},
   "outputs": [
    {
     "data": {
      "text/html": [
       "<div>\n",
       "<style scoped>\n",
       "    .dataframe tbody tr th:only-of-type {\n",
       "        vertical-align: middle;\n",
       "    }\n",
       "\n",
       "    .dataframe tbody tr th {\n",
       "        vertical-align: top;\n",
       "    }\n",
       "\n",
       "    .dataframe thead th {\n",
       "        text-align: right;\n",
       "    }\n",
       "</style>\n",
       "<table border=\"1\" class=\"dataframe\">\n",
       "  <thead>\n",
       "    <tr style=\"text-align: right;\">\n",
       "      <th></th>\n",
       "      <th>Names</th>\n",
       "      <th>emails</th>\n",
       "      <th>Country</th>\n",
       "      <th>Time Spent on Site</th>\n",
       "      <th>Salary</th>\n",
       "      <th>Clicked</th>\n",
       "    </tr>\n",
       "  </thead>\n",
       "  <tbody>\n",
       "    <tr>\n",
       "      <th>0</th>\n",
       "      <td>Martina Avila</td>\n",
       "      <td>cubilia.Curae.Phasellus@quisaccumsanconvallis.edu</td>\n",
       "      <td>Bulgaria</td>\n",
       "      <td>25.649648</td>\n",
       "      <td>55330.06006</td>\n",
       "      <td>0</td>\n",
       "    </tr>\n",
       "    <tr>\n",
       "      <th>1</th>\n",
       "      <td>Harlan Barnes</td>\n",
       "      <td>eu.dolor@diam.co.uk</td>\n",
       "      <td>Belize</td>\n",
       "      <td>32.456107</td>\n",
       "      <td>79049.07674</td>\n",
       "      <td>1</td>\n",
       "    </tr>\n",
       "    <tr>\n",
       "      <th>2</th>\n",
       "      <td>Naomi Rodriquez</td>\n",
       "      <td>vulputate.mauris.sagittis@ametconsectetueradip...</td>\n",
       "      <td>Algeria</td>\n",
       "      <td>20.945978</td>\n",
       "      <td>41098.60826</td>\n",
       "      <td>0</td>\n",
       "    </tr>\n",
       "    <tr>\n",
       "      <th>3</th>\n",
       "      <td>Jade Cunningham</td>\n",
       "      <td>malesuada@dignissim.com</td>\n",
       "      <td>Cook Islands</td>\n",
       "      <td>54.039325</td>\n",
       "      <td>37143.35536</td>\n",
       "      <td>1</td>\n",
       "    </tr>\n",
       "    <tr>\n",
       "      <th>4</th>\n",
       "      <td>Cedric Leach</td>\n",
       "      <td>felis.ullamcorper.viverra@egetmollislectus.net</td>\n",
       "      <td>Brazil</td>\n",
       "      <td>34.249729</td>\n",
       "      <td>37355.11276</td>\n",
       "      <td>0</td>\n",
       "    </tr>\n",
       "  </tbody>\n",
       "</table>\n",
       "</div>"
      ],
      "text/plain": [
       "             Names                                             emails  \\\n",
       "0    Martina Avila  cubilia.Curae.Phasellus@quisaccumsanconvallis.edu   \n",
       "1    Harlan Barnes                                eu.dolor@diam.co.uk   \n",
       "2  Naomi Rodriquez  vulputate.mauris.sagittis@ametconsectetueradip...   \n",
       "3  Jade Cunningham                            malesuada@dignissim.com   \n",
       "4     Cedric Leach     felis.ullamcorper.viverra@egetmollislectus.net   \n",
       "\n",
       "        Country  Time Spent on Site       Salary  Clicked  \n",
       "0      Bulgaria           25.649648  55330.06006        0  \n",
       "1        Belize           32.456107  79049.07674        1  \n",
       "2       Algeria           20.945978  41098.60826        0  \n",
       "3  Cook Islands           54.039325  37143.35536        1  \n",
       "4        Brazil           34.249729  37355.11276        0  "
      ]
     },
     "execution_count": 11,
     "metadata": {},
     "output_type": "execute_result"
    }
   ],
   "source": [
    "df.head()"
   ]
  },
  {
   "cell_type": "code",
   "execution_count": 12,
   "metadata": {},
   "outputs": [],
   "source": [
    "#Let's drop the emails, country and names (we can make use of the country later!)\n",
    "df.drop(columns = ['emails','Country','Names'], inplace = True)"
   ]
  },
  {
   "cell_type": "code",
   "execution_count": 13,
   "metadata": {},
   "outputs": [
    {
     "data": {
      "text/html": [
       "<div>\n",
       "<style scoped>\n",
       "    .dataframe tbody tr th:only-of-type {\n",
       "        vertical-align: middle;\n",
       "    }\n",
       "\n",
       "    .dataframe tbody tr th {\n",
       "        vertical-align: top;\n",
       "    }\n",
       "\n",
       "    .dataframe thead th {\n",
       "        text-align: right;\n",
       "    }\n",
       "</style>\n",
       "<table border=\"1\" class=\"dataframe\">\n",
       "  <thead>\n",
       "    <tr style=\"text-align: right;\">\n",
       "      <th></th>\n",
       "      <th>Time Spent on Site</th>\n",
       "      <th>Salary</th>\n",
       "      <th>Clicked</th>\n",
       "    </tr>\n",
       "  </thead>\n",
       "  <tbody>\n",
       "    <tr>\n",
       "      <th>0</th>\n",
       "      <td>25.649648</td>\n",
       "      <td>55330.06006</td>\n",
       "      <td>0</td>\n",
       "    </tr>\n",
       "    <tr>\n",
       "      <th>1</th>\n",
       "      <td>32.456107</td>\n",
       "      <td>79049.07674</td>\n",
       "      <td>1</td>\n",
       "    </tr>\n",
       "    <tr>\n",
       "      <th>2</th>\n",
       "      <td>20.945978</td>\n",
       "      <td>41098.60826</td>\n",
       "      <td>0</td>\n",
       "    </tr>\n",
       "    <tr>\n",
       "      <th>3</th>\n",
       "      <td>54.039325</td>\n",
       "      <td>37143.35536</td>\n",
       "      <td>1</td>\n",
       "    </tr>\n",
       "    <tr>\n",
       "      <th>4</th>\n",
       "      <td>34.249729</td>\n",
       "      <td>37355.11276</td>\n",
       "      <td>0</td>\n",
       "    </tr>\n",
       "  </tbody>\n",
       "</table>\n",
       "</div>"
      ],
      "text/plain": [
       "   Time Spent on Site       Salary  Clicked\n",
       "0           25.649648  55330.06006        0\n",
       "1           32.456107  79049.07674        1\n",
       "2           20.945978  41098.60826        0\n",
       "3           54.039325  37143.35536        1\n",
       "4           34.249729  37355.11276        0"
      ]
     },
     "execution_count": 13,
     "metadata": {},
     "output_type": "execute_result"
    }
   ],
   "source": [
    "df.head()"
   ]
  },
  {
   "cell_type": "code",
   "execution_count": 14,
   "metadata": {},
   "outputs": [],
   "source": [
    "#Let's drop the target coloumn before we do train test split\n",
    "X = df.drop('Clicked', axis = 1)\n",
    "y = df.Clicked"
   ]
  },
  {
   "cell_type": "code",
   "execution_count": 15,
   "metadata": {},
   "outputs": [],
   "source": [
    "# Feature Scaling\n",
    "from sklearn.preprocessing import StandardScaler\n",
    "sc = StandardScaler()\n",
    "X = sc.fit_transform(X)"
   ]
  },
  {
   "cell_type": "markdown",
   "metadata": {},
   "source": [
    "### Model Training"
   ]
  },
  {
   "cell_type": "code",
   "execution_count": 16,
   "metadata": {},
   "outputs": [],
   "source": [
    "from sklearn.model_selection import train_test_split"
   ]
  },
  {
   "cell_type": "code",
   "execution_count": 17,
   "metadata": {},
   "outputs": [],
   "source": [
    "X_train, X_test, y_train, y_test = train_test_split(X, y, test_size = 0.2)"
   ]
  },
  {
   "cell_type": "code",
   "execution_count": 18,
   "metadata": {},
   "outputs": [
    {
     "data": {
      "text/plain": [
       "array([[ 1.40123857e+00,  1.31693631e+00],\n",
       "       [ 9.00127361e-02,  9.03336004e-01],\n",
       "       [ 6.87656629e-01,  1.31802826e+00],\n",
       "       [ 8.06383164e-02,  1.57436078e-01],\n",
       "       [ 1.01336250e+00,  3.88173967e-01],\n",
       "       [ 1.88298414e+00,  8.73179066e-01],\n",
       "       [-1.08090975e+00, -6.45661787e-01],\n",
       "       [ 6.68147688e-02,  4.60377823e-01],\n",
       "       [ 7.99054399e-02, -1.08608789e+00],\n",
       "       [ 2.24544291e-01,  3.78344206e-01],\n",
       "       [ 1.55596010e+00,  1.46613769e+00],\n",
       "       [-1.67886526e+00, -4.43579312e-01],\n",
       "       [-1.33525938e+00, -1.43669691e+00],\n",
       "       [ 1.09773526e+00,  1.34446404e+00],\n",
       "       [-1.69821011e+00, -6.02685912e-01],\n",
       "       [ 7.67911699e-01,  7.06197711e-01],\n",
       "       [-9.02821987e-01,  8.84221540e-01],\n",
       "       [ 1.12386746e+00,  5.76429012e-01],\n",
       "       [ 1.49769499e+00, -2.23166322e-01],\n",
       "       [ 1.60690195e+00,  2.11529721e+00],\n",
       "       [-1.50339446e+00, -3.88461766e-01],\n",
       "       [ 2.21338476e+00,  1.06200284e+00],\n",
       "       [-1.10130678e+00, -9.69857225e-01],\n",
       "       [ 3.93751298e-01, -2.41424855e-01],\n",
       "       [ 8.32166971e-01,  5.59712614e-01],\n",
       "       [ 1.26919024e+00,  5.37010699e-01],\n",
       "       [ 1.21969727e+00,  5.24899798e-01],\n",
       "       [ 1.39440889e-01, -1.96405161e+00],\n",
       "       [-1.82989184e+00, -7.77146018e-01],\n",
       "       [-8.30558309e-01, -8.27878447e-01],\n",
       "       [-2.91864539e-01,  1.64486245e+00],\n",
       "       [ 1.78297579e-01,  1.33153806e+00],\n",
       "       [-1.12757275e+00, -5.90970043e-01],\n",
       "       [ 6.62743265e-02, -1.15680141e-01],\n",
       "       [-1.15244247e+00, -8.95045507e-01],\n",
       "       [-3.22365808e-01,  1.27372563e+00],\n",
       "       [-1.07836077e-01, -1.81034324e+00],\n",
       "       [-1.50615103e+00, -4.17912301e-01],\n",
       "       [ 3.54770860e-01,  9.10179368e-01],\n",
       "       [ 1.48805910e+00,  9.27229065e-01],\n",
       "       [-1.04638433e+00,  6.41012750e-01],\n",
       "       [-9.67986770e-01, -2.74018308e-01],\n",
       "       [-2.27442560e-01, -1.17735631e+00],\n",
       "       [ 1.46195572e-01, -8.19280959e-01],\n",
       "       [ 1.01530031e+00, -2.34587828e-01],\n",
       "       [ 2.22717403e-01, -6.89598308e-01],\n",
       "       [-1.52082427e+00, -7.17817507e-01],\n",
       "       [-9.34969620e-01, -1.70625532e-01],\n",
       "       [-2.73372941e-01, -6.56301972e-01],\n",
       "       [-4.25875625e-01, -7.26998696e-01],\n",
       "       [-6.60486714e-01,  4.49203455e-01],\n",
       "       [ 7.19277726e-01, -1.00438525e+00],\n",
       "       [ 1.12889157e+00,  1.98190953e+00],\n",
       "       [-8.36398567e-01, -4.81440402e-01],\n",
       "       [ 3.31256892e-01, -1.12033884e+00],\n",
       "       [-5.77249761e-01, -2.57793682e+00],\n",
       "       [-2.14563526e-01, -1.22150728e+00],\n",
       "       [ 1.42843937e+00,  1.07942714e+00],\n",
       "       [-2.50941052e-01,  6.01948690e-01],\n",
       "       [-1.46834772e-01, -1.23734947e+00],\n",
       "       [-3.46385937e-01,  1.03522177e+00],\n",
       "       [-1.08480907e+00, -7.86291560e-01],\n",
       "       [ 8.36006939e-01,  1.29034412e+00],\n",
       "       [ 8.02525626e-01,  7.69345926e-01],\n",
       "       [ 3.20818637e-01,  4.36354003e-02],\n",
       "       [ 6.25693271e-02,  1.52483521e+00],\n",
       "       [ 1.47056762e+00, -7.20031987e-02],\n",
       "       [ 6.05017234e-01,  4.21569136e-01],\n",
       "       [ 1.50793876e+00,  5.77561928e-01],\n",
       "       [ 2.86389218e-01,  2.50098261e-01],\n",
       "       [-1.58972467e-01, -1.50307162e+00],\n",
       "       [-1.15062936e+00, -2.70262657e-01],\n",
       "       [ 1.46184378e-01, -6.28570805e-01],\n",
       "       [ 8.59447839e-01, -9.26391980e-01],\n",
       "       [-1.43047450e+00, -1.05441840e+00],\n",
       "       [ 3.44927602e-01, -1.47132096e-01],\n",
       "       [-4.06046726e-01,  6.73695384e-01],\n",
       "       [-2.58428573e-01,  7.94191124e-01],\n",
       "       [ 3.58502723e-01, -4.08280129e-01],\n",
       "       [-7.16051021e-01, -1.29402171e+00],\n",
       "       [ 1.69663462e+00,  1.11208820e-01],\n",
       "       [-8.43429381e-01, -1.15846205e+00],\n",
       "       [ 2.04452218e+00,  1.04577832e+00],\n",
       "       [ 8.98997888e-01, -1.81000774e-01],\n",
       "       [ 4.48526308e-01, -4.17928816e-01],\n",
       "       [ 1.98004083e-01,  1.46799168e+00],\n",
       "       [ 9.43591657e-01,  6.74427033e-01],\n",
       "       [-1.56574223e+00,  2.09274899e+00],\n",
       "       [-1.14994093e+00, -2.41675560e+00],\n",
       "       [ 9.65145405e-01,  8.56079168e-02],\n",
       "       [-6.48493466e-01, -1.63506165e-01],\n",
       "       [-5.24625542e-01,  5.26287084e-01],\n",
       "       [-5.78443863e-01, -1.74139851e+00],\n",
       "       [-1.13175416e+00, -1.46893142e+00],\n",
       "       [ 2.62399033e-01, -2.13904662e+00],\n",
       "       [-1.04357578e+00, -1.40648087e+00],\n",
       "       [ 2.97766046e+00,  1.24417210e+00],\n",
       "       [ 1.26540129e+00,  1.79220984e+00],\n",
       "       [-1.53083648e+00, -1.06206594e-01],\n",
       "       [-8.36244919e-01,  1.55798548e+00],\n",
       "       [ 1.87441076e-01,  4.63852044e-01],\n",
       "       [-1.30466988e+00,  2.73688390e-01],\n",
       "       [-8.89786073e-01, -5.15023719e-01],\n",
       "       [ 6.60605880e-01,  7.76432681e-01],\n",
       "       [ 2.64396975e-01,  1.54909798e+00],\n",
       "       [-5.73251834e-01, -2.23373358e-01],\n",
       "       [-1.42764854e+00, -9.82238280e-01],\n",
       "       [ 6.30268879e-01,  2.58112567e-01],\n",
       "       [-1.81723975e-01, -5.77507350e-01],\n",
       "       [-8.30822155e-01,  1.80117605e-01],\n",
       "       [ 2.46884600e-02,  1.57072173e+00],\n",
       "       [-1.02959805e+00, -5.17888726e-01],\n",
       "       [ 2.18321254e-01, -6.80342552e-01],\n",
       "       [ 2.83331859e-01,  6.81383988e-01],\n",
       "       [-4.13832022e-01, -7.11787278e-01],\n",
       "       [-2.96569336e-01, -1.02427718e+00],\n",
       "       [-7.92284323e-02, -1.13927733e+00],\n",
       "       [-5.87237907e-01,  2.73955470e-01],\n",
       "       [-3.81072741e-01, -2.05002079e+00],\n",
       "       [-1.21727002e-01, -9.06545636e-01],\n",
       "       [-1.64586907e-01,  5.34031939e-01],\n",
       "       [ 1.09575096e+00,  2.77556768e-01],\n",
       "       [ 1.09531908e+00,  4.75030899e-01],\n",
       "       [ 3.95482032e-01,  1.85281787e+00],\n",
       "       [-8.05159264e-01,  3.86803184e-02],\n",
       "       [ 1.72135322e-01, -1.59685526e+00],\n",
       "       [ 9.77253201e-01,  1.40360447e+00],\n",
       "       [ 7.08248950e-01,  1.47664601e+00],\n",
       "       [ 5.94008832e-01,  2.44274732e-02],\n",
       "       [-9.84468940e-02, -1.24880708e-01],\n",
       "       [ 1.46155764e-02,  1.12979229e+00],\n",
       "       [ 7.94587947e-01,  1.13587727e+00],\n",
       "       [-1.71553149e-01,  9.27029232e-02],\n",
       "       [-1.06031983e+00, -6.39528470e-01],\n",
       "       [-4.99678376e-01,  1.96345929e+00],\n",
       "       [ 9.48297203e-01,  1.52645424e-01],\n",
       "       [ 5.07133827e-01,  7.57085151e-03],\n",
       "       [-2.78093845e-01,  3.49097910e-01],\n",
       "       [-3.37954137e-01,  1.98663178e-01],\n",
       "       [-9.76058419e-01, -8.65690883e-01],\n",
       "       [ 9.57532560e-01,  5.39093731e-01],\n",
       "       [-1.28672996e+00, -9.37298621e-01],\n",
       "       [ 1.51842223e+00,  8.97182126e-01],\n",
       "       [-5.31909663e-01,  5.18115381e-02],\n",
       "       [ 6.11737542e-01, -4.49410826e-01],\n",
       "       [-1.01610140e-01, -5.52306370e-01],\n",
       "       [ 1.02626226e+00,  7.20450068e-01],\n",
       "       [ 7.71325501e-02, -2.89783841e-02],\n",
       "       [ 1.27887913e+00,  3.00539351e-01],\n",
       "       [-2.78376117e-01, -1.02314121e+00],\n",
       "       [ 8.07307574e-01,  3.89280819e-01],\n",
       "       [ 5.27406027e-01,  6.21976462e-01],\n",
       "       [-1.55636639e+00, -7.10749996e-01],\n",
       "       [-5.10286870e-02,  1.37859159e+00],\n",
       "       [ 5.83025801e-01, -6.16505695e-01],\n",
       "       [-7.59855841e-01, -8.40723148e-01],\n",
       "       [ 1.31656657e+00,  9.98590718e-01],\n",
       "       [-9.09672952e-01, -4.53763505e-01],\n",
       "       [ 6.26106703e-01,  7.50557005e-01],\n",
       "       [ 1.05223712e+00,  7.99010943e-01],\n",
       "       [-5.51094361e-01, -7.00131706e-01],\n",
       "       [-1.54140563e-01, -9.28813900e-01],\n",
       "       [ 3.03362900e-02,  1.90588939e+00],\n",
       "       [ 1.09951354e+00,  2.83820577e-01],\n",
       "       [ 1.42362615e+00,  2.28294560e+00],\n",
       "       [-1.82782453e+00, -1.05304777e+00],\n",
       "       [ 5.76767074e-01, -1.27403720e+00],\n",
       "       [-1.52479331e+00, -2.81813172e-01],\n",
       "       [ 6.46145133e-01,  1.05983228e+00],\n",
       "       [-2.16629216e+00, -5.90937478e-01],\n",
       "       [-1.45053222e+00, -5.28241798e-01],\n",
       "       [-3.97184190e-01, -7.72570190e-01],\n",
       "       [-9.70629827e-01, -1.79172680e+00],\n",
       "       [-7.16469455e-01, -5.73675833e-01],\n",
       "       [ 5.59128087e-01,  5.32813464e-01],\n",
       "       [ 4.81997019e-01,  4.82652448e-01],\n",
       "       [ 1.27842887e+00,  6.42418929e-01],\n",
       "       [-1.15672451e+00, -2.35367919e-01],\n",
       "       [-2.35017067e-01, -1.40143134e+00],\n",
       "       [-1.04655997e+00, -1.68057714e-01],\n",
       "       [ 2.58562316e+00,  4.25883823e-01],\n",
       "       [ 3.00478046e-01,  1.24373063e+00],\n",
       "       [-1.73917217e+00,  4.62029789e-01],\n",
       "       [ 8.86682807e-01, -3.85107115e-01],\n",
       "       [ 9.68142138e-02, -3.89771134e-01],\n",
       "       [-3.05048160e-01, -1.72320179e+00],\n",
       "       [ 2.22478229e+00, -5.06242025e-01],\n",
       "       [ 2.39410715e-01,  8.82447136e-01],\n",
       "       [-3.07006494e+00, -2.93483588e-01],\n",
       "       [-8.61257819e-01,  4.61587932e-01],\n",
       "       [ 6.26794649e-01, -2.40037655e-01],\n",
       "       [ 4.39769398e-01,  4.62387961e-01],\n",
       "       [-7.83042479e-01, -1.17847545e+00],\n",
       "       [-7.96458904e-01, -1.21483411e+00],\n",
       "       [-6.31381571e-01,  1.10571322e-01],\n",
       "       [-8.27867118e-01, -2.76806472e-01],\n",
       "       [ 4.61044031e-01,  1.22953955e+00],\n",
       "       [ 1.31599336e+00,  9.41421783e-02],\n",
       "       [ 2.42362882e-01,  9.79617511e-01],\n",
       "       [ 5.19235713e-01, -3.24748638e-01],\n",
       "       [-1.32137974e-01,  1.06219226e+00],\n",
       "       [-1.60915516e+00, -1.01003137e+00],\n",
       "       [ 1.74550935e+00,  1.44229034e-01],\n",
       "       [-2.45407372e-01,  1.48826577e+00],\n",
       "       [-1.47452537e-01, -1.02432161e+00],\n",
       "       [ 6.33635710e-01, -5.09246868e-01],\n",
       "       [ 4.14921072e-01,  1.68278508e+00],\n",
       "       [ 5.27050651e-01,  1.44743530e-01],\n",
       "       [-1.27725848e+00,  7.52297316e-01],\n",
       "       [ 7.36313085e-02,  3.12949006e-01],\n",
       "       [-3.77350625e-01, -1.41877223e+00],\n",
       "       [ 3.74335737e-01,  1.24675686e+00],\n",
       "       [ 7.35118466e-01,  4.70422049e-01],\n",
       "       [-2.40954941e-01,  7.44605776e-01],\n",
       "       [ 3.61687422e-01,  3.22631634e-01],\n",
       "       [-7.01364125e-01, -1.01686333e-01],\n",
       "       [ 4.17850565e-02,  7.22629886e-01],\n",
       "       [ 1.48961502e+00,  8.48212532e-01],\n",
       "       [ 3.22430299e-03,  2.81874547e-01],\n",
       "       [-6.06572433e-01, -2.56770275e-01],\n",
       "       [-8.42943155e-01, -4.29119606e-01],\n",
       "       [-3.09142764e-01,  1.07846156e-01],\n",
       "       [ 3.88636743e-01, -2.00006952e-01],\n",
       "       [ 2.68027594e-01, -1.46264059e+00],\n",
       "       [-1.41082303e+00, -7.98440963e-01],\n",
       "       [ 1.08309745e+00,  9.35907145e-01],\n",
       "       [-7.18311017e-01, -8.33768666e-01],\n",
       "       [ 1.09829758e+00,  1.58130470e-01],\n",
       "       [ 1.06851142e-01,  2.78900567e-01],\n",
       "       [-1.34212381e+00, -9.96509986e-01],\n",
       "       [ 6.73923340e-01,  1.08694925e+00],\n",
       "       [ 7.06952134e-01,  1.08605172e+00],\n",
       "       [-7.56628310e-01,  1.16045764e+00],\n",
       "       [-1.15276892e+00, -2.39817489e-03],\n",
       "       [-4.39547045e-01, -6.74015836e-01],\n",
       "       [-5.87596986e-01,  6.82896020e-01],\n",
       "       [ 8.13069378e-01, -1.12138977e+00],\n",
       "       [-6.13638244e-01, -5.97782954e-01],\n",
       "       [ 8.47383498e-01,  3.46881340e-01],\n",
       "       [ 1.01120803e-01, -1.78517437e+00],\n",
       "       [-1.90921852e+00,  1.13647954e-01],\n",
       "       [ 7.38062049e-01,  1.28350313e+00],\n",
       "       [ 1.54851891e+00,  7.56632828e-01],\n",
       "       [-1.73989886e+00,  3.33780501e-01],\n",
       "       [ 1.02580543e+00, -1.09023371e+00],\n",
       "       [ 8.28917148e-01,  5.63669895e-02],\n",
       "       [-7.01646996e-01, -1.11693508e+00],\n",
       "       [-1.36646222e+00, -3.77859008e-01],\n",
       "       [-3.80543438e-01, -8.33300911e-01],\n",
       "       [ 1.12735434e+00, -6.25400558e-01],\n",
       "       [ 1.14375260e+00,  3.71621874e-01],\n",
       "       [ 1.25368222e-01,  1.62675855e-01],\n",
       "       [-1.38412304e+00, -7.82259943e-01],\n",
       "       [-2.08254258e+00, -3.83457878e-01],\n",
       "       [-1.89904618e+00, -2.18295716e-01],\n",
       "       [-5.00122693e-01, -1.42137651e+00],\n",
       "       [-8.97110238e-01, -7.59750031e-01],\n",
       "       [ 1.49602548e+00,  1.77425975e+00],\n",
       "       [-6.92868827e-01,  1.24451155e+00],\n",
       "       [-3.86929102e-01, -1.11683559e-01],\n",
       "       [ 6.74690547e-01, -1.25031357e+00],\n",
       "       [ 5.41314780e-01,  2.60639388e-01],\n",
       "       [-4.37119518e-01, -1.21230079e+00],\n",
       "       [-7.92902568e-01,  1.40635901e-01],\n",
       "       [-2.08183761e-01, -9.25439405e-01],\n",
       "       [-4.44161882e-01, -8.06752732e-01],\n",
       "       [ 8.99699844e-01,  1.55549616e+00],\n",
       "       [ 1.24585679e+00,  1.41180492e+00],\n",
       "       [-1.40217917e+00, -9.69866388e-01],\n",
       "       [ 1.74544624e-01,  2.10597713e+00],\n",
       "       [ 1.23170157e+00,  1.40040161e-01],\n",
       "       [-1.96516240e+00,  2.35892897e+00],\n",
       "       [-6.00890099e-01, -6.74237655e-01],\n",
       "       [-9.95654359e-01, -1.55281483e+00],\n",
       "       [ 4.57969682e-01,  2.03857045e+00],\n",
       "       [-9.83818173e-01, -1.43310102e+00],\n",
       "       [ 9.99539856e-01,  4.82253821e-01],\n",
       "       [ 8.55264296e-01, -9.81324726e-01],\n",
       "       [ 9.38760851e-01,  1.21381549e+00],\n",
       "       [ 1.27332419e+00, -3.98894338e-02],\n",
       "       [ 2.11424289e-01, -8.30323562e-01],\n",
       "       [ 3.21383283e-01, -9.94071196e-01],\n",
       "       [ 1.23876495e+00,  6.50963986e-01],\n",
       "       [ 5.06769182e-01,  5.24684010e-01],\n",
       "       [ 2.92083143e-01,  1.59028643e+00],\n",
       "       [-8.26322393e-01, -1.81101702e+00],\n",
       "       [-3.02098814e-01, -1.79861741e+00],\n",
       "       [-9.13201126e-01, -9.58097186e-01],\n",
       "       [ 1.71127024e+00,  7.13893183e-01],\n",
       "       [-3.76790524e-01, -8.05747851e-01],\n",
       "       [ 9.55037645e-01,  1.47119015e+00],\n",
       "       [-9.08416002e-01, -8.62416406e-01],\n",
       "       [-7.11760871e-02, -4.61959666e-02],\n",
       "       [ 2.31823509e+00, -4.49316213e-01],\n",
       "       [-4.11683924e-01, -8.01898428e-01],\n",
       "       [-2.57773009e-01,  6.77162007e-01],\n",
       "       [ 9.97297177e-01,  9.64674708e-02],\n",
       "       [ 4.67658202e-01,  5.72131754e-01],\n",
       "       [ 3.20443973e-01,  1.28450995e-01],\n",
       "       [-9.11163106e-01, -1.32337060e+00],\n",
       "       [-6.74555750e-01, -6.35559613e-02],\n",
       "       [ 1.90310940e+00, -1.11700106e+00],\n",
       "       [-1.03622829e+00, -5.03522602e-01],\n",
       "       [-4.24672606e-01,  1.09258439e-01],\n",
       "       [-7.99457658e-01,  1.28257713e-01],\n",
       "       [ 5.10943282e-01, -6.59638389e-01],\n",
       "       [-5.84577286e-01, -1.08879858e+00],\n",
       "       [-1.42957514e+00, -1.19639234e+00],\n",
       "       [ 2.32223270e+00, -8.30443624e-01],\n",
       "       [ 9.65271066e-01, -6.68572372e-01],\n",
       "       [ 2.09814834e-01, -1.44736166e-01],\n",
       "       [ 4.71567012e-02, -4.61818265e-02],\n",
       "       [ 4.04226954e-01,  1.01983375e+00],\n",
       "       [ 3.87487311e-02,  6.48400206e-02],\n",
       "       [-2.40764550e-01, -3.10185529e-01],\n",
       "       [-3.79541731e-01,  8.54526231e-01],\n",
       "       [-1.26962083e+00, -7.39867378e-01],\n",
       "       [-5.76773233e-01, -2.67824395e-01],\n",
       "       [-3.40516022e-01, -5.84545667e-01],\n",
       "       [ 6.52849533e-01,  1.29773683e-01],\n",
       "       [-5.55227833e-01, -1.54686351e+00],\n",
       "       [ 4.78697583e-01, -5.38748631e-02],\n",
       "       [ 1.13932638e+00,  6.46623388e-02],\n",
       "       [ 2.89580706e-01,  9.60049594e-01],\n",
       "       [-1.43765282e+00, -1.77126845e+00],\n",
       "       [ 6.47280406e-01,  4.42902367e-01],\n",
       "       [ 4.27588688e-01,  1.49632055e+00],\n",
       "       [ 1.29534992e-01,  1.14768065e+00],\n",
       "       [ 4.37877245e-01, -1.07083877e+00],\n",
       "       [-1.09525041e+00, -9.40895801e-01],\n",
       "       [-5.59287751e-01, -6.60247498e-02],\n",
       "       [-1.35670177e+00, -1.37162998e+00],\n",
       "       [-3.48394024e-01,  3.48103203e-02],\n",
       "       [-5.10850236e-01,  1.55500352e+00],\n",
       "       [ 3.44079996e-01,  4.39451848e-01],\n",
       "       [ 7.62151072e-01,  2.21682152e+00],\n",
       "       [-9.42115649e-01, -6.82921220e-01],\n",
       "       [ 5.85176219e-01, -2.95619009e-03],\n",
       "       [-1.49843916e+00, -1.00450601e-01],\n",
       "       [-8.84084416e-01, -3.67546944e-01],\n",
       "       [-1.05817867e+00, -1.75134230e-02],\n",
       "       [ 2.09908496e+00,  1.46259598e+00],\n",
       "       [-8.55203904e-01,  1.19309732e-01],\n",
       "       [-3.36520977e-01, -1.80955955e-01],\n",
       "       [ 3.19541628e-01, -7.48136618e-01],\n",
       "       [-8.48086524e-01,  1.31739164e+00],\n",
       "       [ 1.26772505e+00,  1.32538754e+00],\n",
       "       [-1.54366460e+00, -1.99259052e-02],\n",
       "       [ 1.08537270e-01,  1.30280711e+00],\n",
       "       [ 1.19093972e+00, -1.11701595e-01],\n",
       "       [ 1.01932774e+00, -2.57057820e-01],\n",
       "       [-2.14676220e-01,  1.08951849e+00],\n",
       "       [ 6.23629891e-01,  8.57812291e-02],\n",
       "       [ 2.02565664e+00, -3.80108047e-01],\n",
       "       [-2.64415935e-01, -2.15238064e+00],\n",
       "       [-6.51575832e-02, -7.37071697e-01],\n",
       "       [-5.87212695e-02,  1.12989966e+00],\n",
       "       [ 6.38603734e-03,  1.46624390e+00],\n",
       "       [ 8.62103501e-01,  4.25322958e-01],\n",
       "       [ 4.67665396e-01,  5.37880931e-01],\n",
       "       [-1.01890451e+00, -1.21711654e+00],\n",
       "       [-2.20803378e-02, -7.65877249e-01],\n",
       "       [ 9.27987041e-01,  1.06803889e+00],\n",
       "       [ 1.06931056e+00,  8.62704790e-01],\n",
       "       [-1.90235607e+00, -1.12631589e+00],\n",
       "       [ 4.22850089e-01,  2.99119417e-02],\n",
       "       [-7.70799281e-01, -2.78737926e+00],\n",
       "       [-7.12568452e-01, -5.73584907e-01],\n",
       "       [-1.53834725e+00,  6.36975234e-01],\n",
       "       [-1.91132465e-01,  4.15148736e-01],\n",
       "       [ 1.82927627e+00,  6.98873547e-01],\n",
       "       [-1.31666684e+00, -6.21944817e-01],\n",
       "       [ 1.23343285e+00,  3.29963489e-01],\n",
       "       [ 1.01503492e+00, -1.50611667e+00],\n",
       "       [ 1.75289177e+00,  1.06719582e+00],\n",
       "       [ 1.77112538e-01, -1.19530208e+00],\n",
       "       [ 2.68219030e-01,  8.62135315e-01],\n",
       "       [-2.20285872e-01, -1.78035137e+00],\n",
       "       [ 9.72978767e-01, -2.81183074e-01],\n",
       "       [ 4.79229983e-01, -1.44345059e-01],\n",
       "       [-3.55476114e-01, -6.21930555e-01],\n",
       "       [-2.36068144e+00, -9.41129513e-01],\n",
       "       [ 2.63907387e-01, -1.52382503e+00],\n",
       "       [ 5.47286312e-01,  3.88731290e-01],\n",
       "       [ 1.48257113e+00,  1.68256408e-01],\n",
       "       [ 1.18473700e-01, -7.70880173e-01],\n",
       "       [-4.10243162e-01, -1.15753545e-02],\n",
       "       [ 3.30774731e-03, -5.14590296e-01],\n",
       "       [-7.15823921e-01,  1.31349649e-01],\n",
       "       [ 7.58754335e-01,  9.28106741e-01],\n",
       "       [-6.18726122e-01, -1.63385576e-02],\n",
       "       [ 4.05529430e-01,  6.40325553e-01],\n",
       "       [ 1.42461266e+00, -8.48167788e-02],\n",
       "       [ 1.28833924e+00, -1.13937600e+00],\n",
       "       [ 1.24421282e+00,  1.98007694e+00],\n",
       "       [ 2.21607671e+00,  6.56180928e-01],\n",
       "       [ 1.29267843e+00,  2.27779326e-01],\n",
       "       [-8.10221766e-01, -1.67739289e+00],\n",
       "       [ 1.87463590e+00,  9.98778697e-01]])"
      ]
     },
     "execution_count": 18,
     "metadata": {},
     "output_type": "execute_result"
    }
   ],
   "source": [
    "X_train"
   ]
  },
  {
   "cell_type": "code",
   "execution_count": 19,
   "metadata": {},
   "outputs": [
    {
     "data": {
      "text/plain": [
       "array([1, 1, 1, 0, 1, 1, 0, 1, 0, 1, 1, 0, 0, 1, 0, 1, 1, 1, 1, 1, 0, 1,\n",
       "       0, 0, 1, 1, 1, 0, 0, 0, 1, 1, 0, 0, 0, 1, 0, 0, 1, 1, 0, 0, 0, 0,\n",
       "       1, 0, 0, 0, 0, 1, 0, 0, 1, 0, 0, 0, 0, 1, 1, 0, 1, 0, 1, 1, 1, 1,\n",
       "       1, 0, 1, 1, 0, 0, 0, 1, 0, 1, 1, 1, 1, 0, 1, 0, 1, 1, 0, 1, 1, 1,\n",
       "       0, 1, 0, 0, 0, 0, 0, 0, 1, 1, 0, 1, 1, 0, 0, 1, 1, 0, 0, 1, 0, 0,\n",
       "       1, 0, 0, 1, 0, 0, 0, 1, 0, 0, 1, 1, 1, 1, 0, 0, 1, 1, 1, 0, 1, 1,\n",
       "       0, 0, 1, 1, 1, 1, 0, 1, 1, 0, 1, 0, 1, 0, 1, 1, 1, 0, 1, 1, 0, 1,\n",
       "       1, 0, 1, 1, 1, 1, 0, 0, 1, 1, 1, 0, 0, 0, 1, 0, 0, 0, 0, 0, 1, 1,\n",
       "       1, 0, 0, 0, 1, 1, 0, 1, 0, 0, 1, 1, 0, 0, 1, 1, 0, 0, 0, 0, 1, 1,\n",
       "       1, 1, 1, 0, 1, 1, 0, 0, 1, 1, 0, 1, 0, 1, 1, 1, 1, 0, 0, 1, 1, 0,\n",
       "       0, 1, 0, 0, 0, 1, 0, 1, 0, 1, 1, 1, 1, 0, 0, 0, 0, 0, 1, 0, 0, 1,\n",
       "       1, 0, 1, 1, 0, 0, 0, 1, 1, 1, 0, 0, 0, 0, 0, 1, 1, 0, 0, 0, 0, 0,\n",
       "       0, 0, 1, 1, 0, 1, 1, 0, 0, 0, 1, 0, 1, 1, 1, 1, 0, 0, 1, 1, 1, 0,\n",
       "       0, 0, 1, 0, 1, 0, 1, 1, 0, 1, 1, 1, 1, 0, 1, 0, 0, 0, 0, 0, 0, 0,\n",
       "       1, 1, 1, 1, 1, 0, 0, 1, 1, 0, 0, 1, 0, 1, 1, 1, 0, 1, 1, 1, 0, 0,\n",
       "       0, 0, 0, 1, 1, 1, 0, 0, 0, 0, 1, 1, 0, 0, 0, 1, 1, 0, 1, 1, 1, 0,\n",
       "       1, 1, 0, 0, 1, 1, 1, 1, 0, 0, 1, 1, 0, 0, 0, 0, 0, 0, 1, 0, 1, 1,\n",
       "       1, 0, 1, 0, 1, 0, 0, 0, 0, 1, 1, 0, 0, 0, 0, 1, 1, 1, 1, 1, 1, 1,\n",
       "       1, 0, 1], dtype=int64)"
      ]
     },
     "execution_count": 19,
     "metadata": {},
     "output_type": "execute_result"
    }
   ],
   "source": [
    "y_train.values"
   ]
  },
  {
   "cell_type": "code",
   "execution_count": 20,
   "metadata": {},
   "outputs": [
    {
     "data": {
      "text/plain": [
       "LogisticRegression(C=1.0, class_weight=None, dual=False, fit_intercept=True,\n",
       "                   intercept_scaling=1, l1_ratio=None, max_iter=100,\n",
       "                   multi_class='auto', n_jobs=None, penalty='l2',\n",
       "                   random_state=None, solver='lbfgs', tol=0.0001, verbose=0,\n",
       "                   warm_start=False)"
      ]
     },
     "execution_count": 20,
     "metadata": {},
     "output_type": "execute_result"
    }
   ],
   "source": [
    "# Fitting Logistic Regression to the Training set\n",
    "from sklearn.linear_model import LogisticRegression\n",
    "classifier = LogisticRegression()\n",
    "classifier.fit(X_train, y_train)"
   ]
  },
  {
   "cell_type": "markdown",
   "metadata": {},
   "source": [
    "### Model Testing"
   ]
  },
  {
   "cell_type": "code",
   "execution_count": 21,
   "metadata": {},
   "outputs": [
    {
     "data": {
      "text/plain": [
       "array([1, 1, 1, 1, 1, 1, 0, 1, 0, 1, 1, 0, 0, 1, 0, 1, 1, 1, 1, 1, 0, 1,\n",
       "       0, 1, 1, 1, 1, 0, 0, 0, 1, 1, 0, 0, 0, 1, 0, 0, 1, 1, 0, 0, 0, 0,\n",
       "       1, 0, 0, 0, 0, 0, 0, 0, 1, 0, 0, 0, 0, 1, 1, 0, 1, 0, 1, 1, 1, 1,\n",
       "       1, 1, 1, 1, 0, 0, 0, 0, 0, 1, 1, 1, 0, 0, 1, 0, 1, 1, 1, 1, 1, 1,\n",
       "       0, 1, 0, 1, 0, 0, 0, 0, 1, 1, 0, 1, 1, 0, 0, 1, 1, 0, 0, 1, 0, 0,\n",
       "       1, 0, 0, 1, 0, 0, 0, 0, 0, 0, 1, 1, 1, 1, 0, 0, 1, 1, 1, 0, 1, 1,\n",
       "       0, 0, 1, 1, 1, 1, 0, 0, 1, 0, 1, 0, 1, 0, 1, 1, 1, 0, 1, 1, 0, 1,\n",
       "       0, 0, 1, 0, 1, 1, 0, 0, 1, 1, 1, 0, 0, 0, 1, 0, 0, 0, 0, 0, 1, 1,\n",
       "       1, 0, 0, 0, 1, 1, 0, 1, 0, 0, 1, 1, 0, 0, 1, 1, 0, 0, 0, 0, 1, 1,\n",
       "       1, 1, 1, 0, 1, 1, 0, 1, 1, 1, 0, 1, 0, 1, 1, 1, 1, 0, 1, 1, 1, 0,\n",
       "       0, 0, 1, 0, 0, 1, 0, 1, 1, 0, 1, 1, 1, 0, 0, 1, 0, 0, 1, 0, 0, 1,\n",
       "       1, 0, 0, 1, 0, 0, 0, 1, 1, 1, 0, 0, 0, 0, 0, 1, 1, 0, 0, 1, 0, 0,\n",
       "       0, 0, 1, 1, 0, 1, 1, 1, 0, 0, 1, 0, 1, 0, 1, 1, 0, 0, 1, 1, 1, 0,\n",
       "       0, 0, 1, 0, 1, 0, 0, 1, 0, 1, 1, 1, 1, 0, 0, 1, 0, 0, 0, 0, 0, 0,\n",
       "       1, 1, 1, 1, 1, 1, 0, 1, 0, 0, 0, 1, 0, 1, 1, 1, 0, 1, 1, 1, 0, 0,\n",
       "       0, 0, 0, 1, 1, 1, 0, 1, 0, 0, 0, 1, 0, 0, 0, 1, 1, 0, 1, 1, 1, 1,\n",
       "       1, 1, 0, 0, 1, 1, 1, 1, 0, 0, 1, 1, 0, 1, 0, 0, 0, 1, 1, 0, 1, 0,\n",
       "       1, 0, 1, 0, 1, 1, 0, 0, 0, 1, 1, 0, 0, 0, 0, 1, 0, 1, 1, 1, 1, 1,\n",
       "       1, 0, 1], dtype=int64)"
      ]
     },
     "execution_count": 21,
     "metadata": {},
     "output_type": "execute_result"
    }
   ],
   "source": [
    "y_pred_train = classifier.predict(X_train)\n",
    "y_pred_train"
   ]
  },
  {
   "cell_type": "code",
   "execution_count": 22,
   "metadata": {},
   "outputs": [
    {
     "data": {
      "text/plain": [
       "array([1, 1, 1, 0, 1, 1, 0, 1, 0, 1, 1, 0, 0, 1, 0, 1, 1, 1, 1, 1, 0, 1,\n",
       "       0, 0, 1, 1, 1, 0, 0, 0, 1, 1, 0, 0, 0, 1, 0, 0, 1, 1, 0, 0, 0, 0,\n",
       "       1, 0, 0, 0, 0, 1, 0, 0, 1, 0, 0, 0, 0, 1, 1, 0, 1, 0, 1, 1, 1, 1,\n",
       "       1, 0, 1, 1, 0, 0, 0, 1, 0, 1, 1, 1, 1, 0, 1, 0, 1, 1, 0, 1, 1, 1,\n",
       "       0, 1, 0, 0, 0, 0, 0, 0, 1, 1, 0, 1, 1, 0, 0, 1, 1, 0, 0, 1, 0, 0,\n",
       "       1, 0, 0, 1, 0, 0, 0, 1, 0, 0, 1, 1, 1, 1, 0, 0, 1, 1, 1, 0, 1, 1,\n",
       "       0, 0, 1, 1, 1, 1, 0, 1, 1, 0, 1, 0, 1, 0, 1, 1, 1, 0, 1, 1, 0, 1,\n",
       "       1, 0, 1, 1, 1, 1, 0, 0, 1, 1, 1, 0, 0, 0, 1, 0, 0, 0, 0, 0, 1, 1,\n",
       "       1, 0, 0, 0, 1, 1, 0, 1, 0, 0, 1, 1, 0, 0, 1, 1, 0, 0, 0, 0, 1, 1,\n",
       "       1, 1, 1, 0, 1, 1, 0, 0, 1, 1, 0, 1, 0, 1, 1, 1, 1, 0, 0, 1, 1, 0,\n",
       "       0, 1, 0, 0, 0, 1, 0, 1, 0, 1, 1, 1, 1, 0, 0, 0, 0, 0, 1, 0, 0, 1,\n",
       "       1, 0, 1, 1, 0, 0, 0, 1, 1, 1, 0, 0, 0, 0, 0, 1, 1, 0, 0, 0, 0, 0,\n",
       "       0, 0, 1, 1, 0, 1, 1, 0, 0, 0, 1, 0, 1, 1, 1, 1, 0, 0, 1, 1, 1, 0,\n",
       "       0, 0, 1, 0, 1, 0, 1, 1, 0, 1, 1, 1, 1, 0, 1, 0, 0, 0, 0, 0, 0, 0,\n",
       "       1, 1, 1, 1, 1, 0, 0, 1, 1, 0, 0, 1, 0, 1, 1, 1, 0, 1, 1, 1, 0, 0,\n",
       "       0, 0, 0, 1, 1, 1, 0, 0, 0, 0, 1, 1, 0, 0, 0, 1, 1, 0, 1, 1, 1, 0,\n",
       "       1, 1, 0, 0, 1, 1, 1, 1, 0, 0, 1, 1, 0, 0, 0, 0, 0, 0, 1, 0, 1, 1,\n",
       "       1, 0, 1, 0, 1, 0, 0, 0, 0, 1, 1, 0, 0, 0, 0, 1, 1, 1, 1, 1, 1, 1,\n",
       "       1, 0, 1], dtype=int64)"
      ]
     },
     "execution_count": 22,
     "metadata": {},
     "output_type": "execute_result"
    }
   ],
   "source": [
    "y_train.values"
   ]
  },
  {
   "cell_type": "code",
   "execution_count": 23,
   "metadata": {},
   "outputs": [
    {
     "data": {
      "text/plain": [
       "<matplotlib.axes._subplots.AxesSubplot at 0x1f2f2f597f0>"
      ]
     },
     "execution_count": 23,
     "metadata": {},
     "output_type": "execute_result"
    },
    {
     "data": {
      "image/png": "[encoded data removed]",
      "text/plain": [
       "<Figure size 432x288 with 2 Axes>"
      ]
     },
     "metadata": {
      "needs_background": "light"
     },
     "output_type": "display_data"
    }
   ],
   "source": [
    "from sklearn.metrics import confusion_matrix, classification_report\n",
    "cm = confusion_matrix(y_train.values, y_pred_train)\n",
    "sns.heatmap(cm, annot = True, fmt = 'd')"
   ]
  },
  {
   "cell_type": "code",
   "execution_count": 24,
   "metadata": {},
   "outputs": [
    {
     "data": {
      "text/plain": [
       "array([0, 0, 1, 1, 0, 0, 1, 1, 1, 1, 0, 0, 1, 1, 0, 1, 1, 0, 0, 0, 1, 1,\n",
       "       0, 1, 0, 1, 0, 1, 0, 0, 1, 0, 0, 1, 0, 1, 1, 1, 1, 1, 1, 0, 1, 0,\n",
       "       0, 1, 0, 1, 1, 1, 0, 0, 1, 0, 0, 0, 0, 0, 1, 0, 0, 0, 1, 0, 1, 0,\n",
       "       0, 1, 0, 1, 0, 1, 1, 1, 0, 1, 0, 1, 1, 1, 0, 0, 0, 0, 1, 1, 0, 0,\n",
       "       1, 0, 1, 0, 1, 0, 0, 0, 1, 1, 0, 1], dtype=int64)"
      ]
     },
     "execution_count": 24,
     "metadata": {},
     "output_type": "execute_result"
    }
   ],
   "source": [
    "y_pred_test = classifier.predict(X_test)\n",
    "y_pred_test"
   ]
  },
  {
   "cell_type": "code",
   "execution_count": 25,
   "metadata": {},
   "outputs": [
    {
     "data": {
      "text/plain": [
       "<matplotlib.axes._subplots.AxesSubplot at 0x1f2f3018a58>"
      ]
     },
     "execution_count": 25,
     "metadata": {},
     "output_type": "execute_result"
    },
    {
     "data": {
      "image/png": "[encoded data removed]",
      "text/plain": [
       "<Figure size 432x288 with 2 Axes>"
      ]
     },
     "metadata": {
      "needs_background": "light"
     },
     "output_type": "display_data"
    }
   ],
   "source": [
    "cm = confusion_matrix(y_test,y_pred_test)\n",
    "sns.heatmap(cm, annot = True, fmt = 'd')"
   ]
  },
  {
   "cell_type": "code",
   "execution_count": 26,
   "metadata": {},
   "outputs": [
    {
     "name": "stdout",
     "output_type": "stream",
     "text": [
      "              precision    recall  f1-score   support\n",
      "\n",
      "           0       0.92      0.89      0.90        53\n",
      "           1       0.88      0.91      0.90        47\n",
      "\n",
      "    accuracy                           0.90       100\n",
      "   macro avg       0.90      0.90      0.90       100\n",
      "weighted avg       0.90      0.90      0.90       100\n",
      "\n"
     ]
    }
   ],
   "source": [
    "print(classification_report(y_test, y_pred_test))"
   ]
  },
  {
   "cell_type": "markdown",
   "metadata": {},
   "source": [
    "### Visualizing Training and Testing Datasets"
   ]
  },
  {
   "cell_type": "code",
   "execution_count": 27,
   "metadata": {},
   "outputs": [
    {
     "name": "stderr",
     "output_type": "stream",
     "text": [
      "'c' argument looks like a single numeric RGB or RGBA sequence, which should be avoided as value-mapping will have precedence in case its length matches with 'x' & 'y'.  Please use a 2-D array with a single row if you really want to specify the same RGB or RGBA value for all points.\n",
      "'c' argument looks like a single numeric RGB or RGBA sequence, which should be avoided as value-mapping will have precedence in case its length matches with 'x' & 'y'.  Please use a 2-D array with a single row if you really want to specify the same RGB or RGBA value for all points.\n"
     ]
    },
    {
     "data": {
      "image/png": "[encoded data removed]",
      "text/plain": [
       "<Figure size 432x288 with 1 Axes>"
      ]
     },
     "metadata": {
      "needs_background": "light"
     },
     "output_type": "display_data"
    }
   ],
   "source": [
    "# Visualising the Training set results\n",
    "from matplotlib.colors import ListedColormap\n",
    "X_set, y_set = X_train, y_train\n",
    "X1, X2 = np.meshgrid(np.arange(start = X_set[:, 0].min() - 1, stop = X_set[:, 0].max() + 1, step = 0.01),\n",
    "                     np.arange(start = X_set[:, 1].min() - 1, stop = X_set[:, 1].max() + 1, step = 0.01))\n",
    "plt.contourf(X1, X2, classifier.predict(np.array([X1.ravel(), X2.ravel()]).T).reshape(X1.shape),\n",
    "             alpha = 0.75, cmap = ListedColormap(('magenta', 'blue')))\n",
    "plt.xlim(X1.min(), X1.max())\n",
    "plt.ylim(X2.min(), X2.max())\n",
    "for i, j in enumerate(np.unique(y_set)):\n",
    "    plt.scatter(X_set[y_set == j, 0], X_set[y_set == j, 1],\n",
    "                c = ListedColormap(('magenta', 'blue'))(i), label = j)\n",
    "plt.title('Facebook Ad: Customer Click Prediction (Training set)')\n",
    "plt.xlabel('Time Spent on Site')\n",
    "plt.ylabel('Estimated Salary')\n",
    "plt.legend()\n",
    "plt.show()"
   ]
  },
  {
   "cell_type": "code",
   "execution_count": 28,
   "metadata": {},
   "outputs": [
    {
     "name": "stderr",
     "output_type": "stream",
     "text": [
      "'c' argument looks like a single numeric RGB or RGBA sequence, which should be avoided as value-mapping will have precedence in case its length matches with 'x' & 'y'.  Please use a 2-D array with a single row if you really want to specify the same RGB or RGBA value for all points.\n",
      "'c' argument looks like a single numeric RGB or RGBA sequence, which should be avoided as value-mapping will have precedence in case its length matches with 'x' & 'y'.  Please use a 2-D array with a single row if you really want to specify the same RGB or RGBA value for all points.\n"
     ]
    },
    {
     "data": {
      "image/png": "[encoded data removed]",
      "text/plain": [
       "<Figure size 432x288 with 1 Axes>"
      ]
     },
     "metadata": {
      "needs_background": "light"
     },
     "output_type": "display_data"
    }
   ],
   "source": [
    "# Visualising the Test set results\n",
    "from matplotlib.colors import ListedColormap\n",
    "X_set, y_set = X_test, y_test\n",
    "X1, X2 = np.meshgrid(np.arange(start = X_set[:, 0].min() - 1, stop = X_set[:, 0].max() + 1, step = 0.01),\n",
    "                     np.arange(start = X_set[:, 1].min() - 1, stop = X_set[:, 1].max() + 1, step = 0.01))\n",
    "plt.contourf(X1, X2, classifier.predict(np.array([X1.ravel(), X2.ravel()]).T).reshape(X1.shape),\n",
    "             alpha = 0.75, cmap = ListedColormap(('magenta', 'blue')))\n",
    "plt.xlim(X1.min(), X1.max())\n",
    "plt.ylim(X2.min(), X2.max())\n",
    "for i, j in enumerate(np.unique(y_set)):\n",
    "    plt.scatter(X_set[y_set == j, 0], X_set[y_set == j, 1],\n",
    "                c = ListedColormap(('magenta', 'blue'))(i), label = j)\n",
    "plt.title('Facebook Ad: Customer Click Prediction (Testing set)')\n",
    "plt.xlabel('Time Spent on Site')\n",
    "plt.ylabel('Estimated Salary')\n",
    "plt.legend()\n",
    "plt.show()"
   ]
  }
 ],
 "metadata": {
  "kernelspec": {
   "display_name": "Python 3",
   "language": "python",
   "name": "python3"
  },
  "language_info": {
   "codemirror_mode": {
    "name": "ipython",
    "version": 3
   },
   "file_extension": ".py",
   "mimetype": "text/x-python",
   "name": "python",
   "nbconvert_exporter": "python",
   "pygments_lexer": "ipython3",
   "version": "3.7.3"
  },
  "widgets": {
   "state": {},
   "version": "1.1.2"
  }
 },
 "nbformat": 4,
 "nbformat_minor": 1
}
